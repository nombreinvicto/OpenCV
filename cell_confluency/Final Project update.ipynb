{
 "cells": [
  {
   "cell_type": "code",
   "execution_count": 2,
   "metadata": {},
   "outputs": [
    {
     "name": "stdout",
     "output_type": "stream",
     "text": [
      "Found 389 contours\n",
      "(173, 234)\n",
      "Area of total image: 40482\n",
      "Area enclosed by contours: 44723.5\n",
      "Confluence: 100\n",
      "proliferation in hours: 20\n",
      "Your cells will be overgrown in 0 Days and 0 Hours\n",
      "Primary Myoblast Cell\n"
     ]
    }
   ],
   "source": [
    "import numpy as np\n",
    "import imutils\n",
    "import cv2\n",
    "import math\n",
    "\n",
    "# load cell image\n",
    "image = cv2.imread('pm100%.jpg')\n",
    "\n",
    "# load the image and convert it to grayscale\n",
    "gray = cv2.cvtColor(image, cv2.COLOR_BGR2GRAY)\n",
    "\n",
    "# Gaussian blurring to remove noise use 5x5 kernel\n",
    "#blurred = cv2.GaussianBlur(gray, (5, 5), 0)\n",
    "blurred=cv2.GaussianBlur(gray, (5, 5), 0)\n",
    "# show the original and blurred images\n",
    "cv2.imshow(\"Original\", image)\n",
    "cv2.imshow(\"Blurred\", blurred)\n",
    "\n",
    "# compute a \"wide\", \"mid-range\", and \"tight\" threshold for the edges (Edge Detection)\n",
    "wide = cv2.Canny(blurred, 10, 200)\n",
    "mid = cv2.Canny(blurred, 30, 150)\n",
    "tight = cv2.Canny(blurred, 240, 250)\n",
    "\n",
    "# show the edge maps - from images, mid threshold looks to be the best choice\n",
    "cv2.imshow(\"Wide Edge Map\", wide)\n",
    "# cv2.imshow(\"Mid Edge Map\", mid)\n",
    "# cv2.imshow(\"Tight Edge Map\", tight)\n",
    "\n",
    "\n",
    "# dilation - do it on mid to close contour gaps (Morphological Transformation)\n",
    "dilated = cv2.dilate(mid.copy(), None, iterations=1)\n",
    "cv2.imshow(\"Dilated {} times\".format(1), dilated)\n",
    "\n",
    "# find all contours in the image and draw ALL contours on the image\n",
    "cnts = cv2.findContours(dilated.copy(), cv2.RETR_LIST, cv2.CHAIN_APPROX_NONE)\n",
    "cnts = imutils.grab_contours(cnts)\n",
    "clone = image.copy()\n",
    "cv2.drawContours(clone, cnts, -1, (0, 255, 0), 1)\n",
    "print(\"Found {} contours\".format(len(cnts)))\n",
    "\n",
    "# show the output image\n",
    "cv2.imshow(\"All Contours\", clone)\n",
    "\n",
    "# calculate confluence area\n",
    "total_area = 0\n",
    "for i, c in enumerate(cnts):\n",
    "    area = cv2.contourArea(c)\n",
    "    total_area += area\n",
    "\n",
    "total_image_area = mid.shape[0] * mid.shape[1]\n",
    "print(mid.shape)\n",
    "confluence = (total_area / total_image_area) * 100\n",
    "if confluence > 100:\n",
    "    confluence = 100\n",
    "print(f\"Confluence: {confluence}\")\n",
    "cv2.waitKey(0)"
   ]
  },
  {
   "cell_type": "code",
   "execution_count": 79,
   "metadata": {},
   "outputs": [
    {
     "name": "stdout",
     "output_type": "stream",
     "text": [
      "proliferation in hours: 24\n",
      "Your cells will be overgrown in 0 Days and 0 Hours\n"
     ]
    }
   ],
   "source": [
    "#Estimating the confluency overgrown   \n",
    "Day=[]\n",
    "Hours=[]\n",
    "proliferation_rate=float(input('proliferation in hours: '))\n",
    "day_conversion=proliferation_rate/24\n",
    "overgrown=100.1\n",
    "\n",
    "for n in range(100):\n",
    "    while confluence*2**n<overgrown:\n",
    "        Day=math.floor(day_conversion* 2**(n-1))\n",
    "        Hours=math.floor(((overgrown-(confluence*2**n))*proliferation_rate)/(confluence*2**n))\n",
    "        break\n",
    "\n",
    "if Hours>=24 and Hours<=48:\n",
    "    Day=Day + 1\n",
    "    Hours=Hours-24\n",
    "\n",
    "if Hours>=48 and Hours<=72:\n",
    "    Day=Day + 2\n",
    "    Hours=Hours-48\n",
    "    \n",
    "print(f'Your cells will be overgrown in {round(Day,1)} Days and {round(Hours,2)} Hours')"
   ]
  },
  {
   "cell_type": "code",
   "execution_count": 76,
   "metadata": {},
   "outputs": [
    {
     "name": "stdout",
     "output_type": "stream",
     "text": [
      "NIH 3T3 Cell\n"
     ]
    }
   ],
   "source": [
    "#predicting which cell type it is\n",
    "\n",
    "cnts = cv2.findContours(dilated.copy(), cv2.RETR_LIST, cv2.CHAIN_APPROX_NONE)\n",
    "cnts = imutils.grab_contours(cnts)\n",
    "total_area = 0\n",
    "hull_total=0\n",
    "for i, c in enumerate(cnts):\n",
    "    area = cv2.contourArea(c)\n",
    "    hull=cv2.convexHull(c)\n",
    "    hull_area = cv2.contourArea(hull)\n",
    "    total_area += area\n",
    "    hull_total += hull_area\n",
    "\n",
    "solidity = total_area/hull_total\n",
    "round(solidity,2)\n",
    "\n",
    "if solidity>0.79:\n",
    "    print('Primary Myoblast Cell')\n",
    "else:\n",
    "    print('NIH 3T3 Cell')"
   ]
  }
 ],
 "metadata": {
  "kernelspec": {
   "display_name": "Python 3",
   "language": "python",
   "name": "python3"
  },
  "language_info": {
   "codemirror_mode": {
    "name": "ipython",
    "version": 3
   },
   "file_extension": ".py",
   "mimetype": "text/x-python",
   "name": "python",
   "nbconvert_exporter": "python",
   "pygments_lexer": "ipython3",
   "version": "3.7.3"
  }
 },
 "nbformat": 4,
 "nbformat_minor": 2
}
